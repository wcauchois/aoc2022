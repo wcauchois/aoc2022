{
 "cells": [
  {
   "cell_type": "code",
   "execution_count": 2,
   "id": "331ffe82",
   "metadata": {},
   "outputs": [],
   "source": [
    "from pathlib import Path\n",
    "import os, sys"
   ]
  },
  {
   "cell_type": "code",
   "execution_count": 3,
   "id": "cf0adcbe",
   "metadata": {},
   "outputs": [],
   "source": [
    "repo_dir = Path(os.getcwd()).parent\n",
    "if repo_dir not in sys.path:\n",
    "    sys.path.insert(0, str(repo_dir))"
   ]
  },
  {
   "cell_type": "code",
   "execution_count": 8,
   "id": "b27efada",
   "metadata": {},
   "outputs": [],
   "source": [
    "%load_ext autoreload\n",
    "%autoreload 2\n",
    "\n",
    "from aoc_utils import *"
   ]
  },
  {
   "cell_type": "code",
   "execution_count": 12,
   "id": "7c806548",
   "metadata": {},
   "outputs": [
    {
     "data": {
      "text/plain": [
       "71124"
      ]
     },
     "execution_count": 12,
     "metadata": {},
     "output_type": "execute_result"
    }
   ],
   "source": [
    "lines = read_file_to_lines(\"input.txt\")\n",
    "\n",
    "elves = [[]]\n",
    "for line in lines:\n",
    "    if line == '':\n",
    "        elves.append([])\n",
    "    else:\n",
    "        elves[-1].append(int(line))\n",
    "\n",
    "max_elf = max(elves, key=lambda elf: sum(elf))\n",
    "sum(max_elf)\n",
    "        "
   ]
  },
  {
   "cell_type": "code",
   "execution_count": 16,
   "id": "a4490603",
   "metadata": {},
   "outputs": [
    {
     "ename": "AttributeError",
     "evalue": "'list' object has no attribute 'flatten'",
     "output_type": "error",
     "traceback": [
      "\u001b[0;31m---------------------------------------------------------------------------\u001b[0m",
      "\u001b[0;31mAttributeError\u001b[0m                            Traceback (most recent call last)",
      "Cell \u001b[0;32mIn[16], line 2\u001b[0m\n\u001b[1;32m      1\u001b[0m max_elves \u001b[38;5;241m=\u001b[39m \u001b[38;5;28msorted\u001b[39m(elves, key\u001b[38;5;241m=\u001b[39m\u001b[38;5;28;01mlambda\u001b[39;00m elf: \u001b[38;5;28msum\u001b[39m(elf))\n\u001b[0;32m----> 2\u001b[0m \u001b[43mmax_elves\u001b[49m\u001b[43m[\u001b[49m\u001b[43m:\u001b[49m\u001b[38;5;241;43m3\u001b[39;49m\u001b[43m]\u001b[49m\u001b[38;5;241;43m.\u001b[39;49m\u001b[43mflatten\u001b[49m()\n",
      "\u001b[0;31mAttributeError\u001b[0m: 'list' object has no attribute 'flatten'"
     ]
    }
   ],
   "source": [
    "max_elves = sorted(elves, key=lambda elf: sum(elf))\n",
    "max_elves[:3].flatten()"
   ]
  }
 ],
 "metadata": {
  "kernelspec": {
   "display_name": "Python 3 (ipykernel)",
   "language": "python",
   "name": "python3"
  },
  "language_info": {
   "codemirror_mode": {
    "name": "ipython",
    "version": 3
   },
   "file_extension": ".py",
   "mimetype": "text/x-python",
   "name": "python",
   "nbconvert_exporter": "python",
   "pygments_lexer": "ipython3",
   "version": "3.10.0"
  }
 },
 "nbformat": 4,
 "nbformat_minor": 5
}
